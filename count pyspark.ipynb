{
 "cells": [
  {
   "cell_type": "code",
   "execution_count": 1,
   "id": "3a06de23-e0a3-42cb-bf7c-59d1d1056623",
   "metadata": {},
   "outputs": [
    {
     "ename": "ModuleNotFoundError",
     "evalue": "No module named 'pyspark'",
     "output_type": "error",
     "traceback": [
      "\u001b[1;31m---------------------------------------------------------------------------\u001b[0m",
      "\u001b[1;31mModuleNotFoundError\u001b[0m                       Traceback (most recent call last)",
      "Input \u001b[1;32mIn [1]\u001b[0m, in \u001b[0;36m<cell line: 1>\u001b[1;34m()\u001b[0m\n\u001b[1;32m----> 1\u001b[0m \u001b[38;5;28;01mfrom\u001b[39;00m \u001b[38;5;21;01mpyspark\u001b[39;00m\u001b[38;5;21;01m.\u001b[39;00m\u001b[38;5;21;01msql\u001b[39;00m \u001b[38;5;28;01mimport\u001b[39;00m SparkSession\n",
      "\u001b[1;31mModuleNotFoundError\u001b[0m: No module named 'pyspark'"
     ]
    }
   ],
   "source": [
    "from pyspark.sql import SparkSession"
   ]
  },
  {
   "cell_type": "code",
   "execution_count": 10,
   "id": "5558e624-2ffc-49ed-8dbf-89766eb1c38f",
   "metadata": {},
   "outputs": [],
   "source": [
    "# Initialize SparkSession\n",
    "spark = SparkSession.builder \\\n",
    "    .appName(\"WordCount\") \\\n",
    "    .master(\"local[*]\") \\\n",
    "    .getOrCreate()"
   ]
  },
  {
   "cell_type": "code",
   "execution_count": 11,
   "id": "2d413988-ae53-477d-8f27-d7b46ee33d0d",
   "metadata": {},
   "outputs": [],
   "source": [
    "# Load text file into DataFrame\n",
    "lines = spark.read.text(\"Desktop/test.txt\")"
   ]
  },
  {
   "cell_type": "code",
   "execution_count": 12,
   "id": "f8fca22b-3dd5-4076-8f8f-dda334923972",
   "metadata": {},
   "outputs": [],
   "source": [
    "# Tokenize lines into words\n",
    "words = lines.select(funcs.explode(funcs.split(lines.value, \"\\\\W+\")).alias(\"word\"))\n"
   ]
  },
  {
   "cell_type": "code",
   "execution_count": 13,
   "id": "3545b243-7c2b-4314-8919-520e157dd6c3",
   "metadata": {},
   "outputs": [],
   "source": [
    "# Count occurrences of each word\n",
    "word_counts = words.groupBy(\"word\").count()"
   ]
  },
  {
   "cell_type": "code",
   "execution_count": 14,
   "id": "65065246-e310-4764-b6dd-6db422aba9a2",
   "metadata": {},
   "outputs": [
    {
     "name": "stdout",
     "output_type": "stream",
     "text": [
      "+-------------+-----+\n",
      "|         word|count|\n",
      "+-------------+-----+\n",
      "|       online|    2|\n",
      "|     positive|    1|\n",
      "|    expertise|    1|\n",
      "|       Multan|    1|\n",
      "|       groups|    1|\n",
      "|       Career|    1|\n",
      "|        space|    1|\n",
      "|   throughout|    1|\n",
      "|           us|    2|\n",
      "|        local|    1|\n",
      "|         Data|    6|\n",
      "|     industry|    4|\n",
      "|Collaboration|    2|\n",
      "|       demand|    1|\n",
      "|   regardless|    2|\n",
      "|        field|    1|\n",
      "|      Science|    5|\n",
      "|   mentorship|    1|\n",
      "|    generates|    1|\n",
      "|    textbooks|    1|\n",
      "+-------------+-----+\n",
      "only showing top 20 rows\n",
      "\n"
     ]
    }
   ],
   "source": [
    "# Display word count results\n",
    "word_counts.show()"
   ]
  },
  {
   "cell_type": "code",
   "execution_count": 15,
   "id": "8c3290a6-19f4-4bc1-8501-798e289543c3",
   "metadata": {},
   "outputs": [
    {
     "name": "stdout",
     "output_type": "stream",
     "text": [
      "Total number of words in the file: 688\n"
     ]
    }
   ],
   "source": [
    "# Count total words in the file\n",
    "total_words = words.count()\n",
    "\n",
    "# Display total number of words\n",
    "print(\"Total number of words in the file:\", total_words)\n"
   ]
  },
  {
   "cell_type": "code",
   "execution_count": null,
   "id": "f7e1bccf-2f1a-4b4d-b809-bed66f9d5f66",
   "metadata": {},
   "outputs": [],
   "source": []
  }
 ],
 "metadata": {
  "kernelspec": {
   "display_name": "Python 3 (ipykernel)",
   "language": "python",
   "name": "python3"
  },
  "language_info": {
   "codemirror_mode": {
    "name": "ipython",
    "version": 3
   },
   "file_extension": ".py",
   "mimetype": "text/x-python",
   "name": "python",
   "nbconvert_exporter": "python",
   "pygments_lexer": "ipython3",
   "version": "3.9.12"
  }
 },
 "nbformat": 4,
 "nbformat_minor": 5
}
